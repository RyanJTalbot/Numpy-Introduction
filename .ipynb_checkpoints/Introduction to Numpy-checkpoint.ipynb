{
 "cells": [
  {
   "cell_type": "markdown",
   "id": "b3af5cfc",
   "metadata": {},
   "source": [
    "# Introduction to Numpy\n",
    "Learning NumPy"
   ]
  },
  {
   "cell_type": "code",
   "execution_count": 2,
   "id": "43b53504",
   "metadata": {},
   "outputs": [
    {
     "data": {
      "text/plain": [
       "'1.21.2'"
      ]
     },
     "execution_count": 2,
     "metadata": {},
     "output_type": "execute_result"
    }
   ],
   "source": [
    "import numpy as np\n",
    "np.__version__"
   ]
  },
  {
   "cell_type": "code",
   "execution_count": 3,
   "id": "67921086",
   "metadata": {},
   "outputs": [],
   "source": [
    "gpas_as_list = [4.0, 3.296, 3.5]"
   ]
  },
  {
   "cell_type": "code",
   "execution_count": 4,
   "id": "1e8e7282",
   "metadata": {},
   "outputs": [
    {
     "data": {
      "text/plain": [
       "'Whatever'"
      ]
     },
     "execution_count": 4,
     "metadata": {},
     "output_type": "execute_result"
    }
   ],
   "source": [
    "# Can have elements append to it\n",
    "gpas_as_list.append(4.0)\n",
    "# Can have multiple datatypes in it.\n",
    "gpas_as_list.insert(1, \"Whatever\")\n",
    "# Can have items removed\n",
    "gpas_as_list.pop(1)"
   ]
  },
  {
   "cell_type": "markdown",
   "id": "350bd5a3",
   "metadata": {},
   "source": [
    "## Differences betwen lists and NumPy Arrays"
   ]
  },
  {
   "cell_type": "code",
   "execution_count": 5,
   "id": "146408c4",
   "metadata": {},
   "outputs": [
    {
     "data": {
      "text/plain": [
       "[4.0, 3.296, 3.5, 4.0]"
      ]
     },
     "execution_count": 5,
     "metadata": {},
     "output_type": "execute_result"
    }
   ],
   "source": [
    "gpas_as_list"
   ]
  },
  {
   "cell_type": "code",
   "execution_count": 6,
   "id": "741d58ba",
   "metadata": {},
   "outputs": [],
   "source": [
    "gpas = np.array (gpas_as_list)"
   ]
  },
  {
   "cell_type": "code",
   "execution_count": 7,
   "id": "01548677",
   "metadata": {},
   "outputs": [],
   "source": [
    "?gpas"
   ]
  },
  {
   "cell_type": "code",
   "execution_count": 8,
   "id": "f689a093",
   "metadata": {},
   "outputs": [
    {
     "data": {
      "text/plain": [
       "dtype('float64')"
      ]
     },
     "execution_count": 8,
     "metadata": {},
     "output_type": "execute_result"
    }
   ],
   "source": [
    "gpas.dtype"
   ]
  },
  {
   "cell_type": "code",
   "execution_count": 9,
   "id": "3c9ceb06",
   "metadata": {},
   "outputs": [
    {
     "data": {
      "text/plain": [
       "8"
      ]
     },
     "execution_count": 9,
     "metadata": {},
     "output_type": "execute_result"
    }
   ],
   "source": [
    "gpas.itemsize"
   ]
  },
  {
   "cell_type": "code",
   "execution_count": 10,
   "id": "7590922f",
   "metadata": {},
   "outputs": [
    {
     "data": {
      "text/plain": [
       "4"
      ]
     },
     "execution_count": 10,
     "metadata": {},
     "output_type": "execute_result"
    }
   ],
   "source": [
    "gpas.size"
   ]
  },
  {
   "cell_type": "code",
   "execution_count": 11,
   "id": "5d0430d5",
   "metadata": {},
   "outputs": [
    {
     "data": {
      "text/plain": [
       "4"
      ]
     },
     "execution_count": 11,
     "metadata": {},
     "output_type": "execute_result"
    }
   ],
   "source": [
    "len(gpas)"
   ]
  },
  {
   "cell_type": "code",
   "execution_count": 12,
   "id": "9482b580",
   "metadata": {},
   "outputs": [
    {
     "data": {
      "text/plain": [
       "32"
      ]
     },
     "execution_count": 12,
     "metadata": {},
     "output_type": "execute_result"
    }
   ],
   "source": [
    "gpas.nbytes"
   ]
  },
  {
   "cell_type": "code",
   "execution_count": null,
   "id": "603a430d",
   "metadata": {},
   "outputs": [],
   "source": []
  }
 ],
 "metadata": {
  "kernelspec": {
   "display_name": "Python 3 (ipykernel)",
   "language": "python",
   "name": "python3"
  },
  "language_info": {
   "codemirror_mode": {
    "name": "ipython",
    "version": 3
   },
   "file_extension": ".py",
   "mimetype": "text/x-python",
   "name": "python",
   "nbconvert_exporter": "python",
   "pygments_lexer": "ipython3",
   "version": "3.9.7"
  }
 },
 "nbformat": 4,
 "nbformat_minor": 5
}
